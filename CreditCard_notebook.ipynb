{
  "nbformat": 4,
  "nbformat_minor": 0,
  "metadata": {
    "colab": {
      "name": "CreditCard.ipynb",
      "provenance": [],
      "collapsed_sections": []
    },
    "kernelspec": {
      "name": "python3",
      "display_name": "Python 3"
    },
    "language_info": {
      "name": "python"
    },
    "widgets": {
      "application/vnd.jupyter.widget-state+json": {
        "f95985237b904f608c0047c7377854bc": {
          "model_module": "plotlywidget",
          "model_name": "FigureModel",
          "state": {
            "_view_name": "FigureView",
            "_py2js_animate": {},
            "_py2js_removeLayoutProps": {},
            "_last_trace_edit_id": 37,
            "_view_module": "plotlywidget",
            "_model_module_version": "^4.14.3",
            "_view_count": 0,
            "_js2py_relayout": {},
            "_py2js_moveTraces": {},
            "_py2js_addTraces": {},
            "_model_module": "plotlywidget",
            "_py2js_relayout": null,
            "_js2py_pointsCallback": {},
            "_js2py_update": {},
            "_js2py_restyle": {},
            "_py2js_removeTraceProps": {},
            "_py2js_deleteTraces": {},
            "_dom_classes": [],
            "_model_name": "FigureModel",
            "_layout": {
              "yaxis": {
                "title": {
                  "text": "Score"
                }
              },
              "xaxis": {
                "title": {
                  "text": "Iteration"
                },
                "rangemode": "tozero"
              },
              "title": {
                "text": "Pipeline Search: Iteration vs. Log Loss Binary<br><sub>Gray marker indicates the score at current iteration</sub>"
              }
            },
            "_js2py_layoutDelta": {},
            "_py2js_update": null,
            "_data": [
              {
                "uid": "3025a0c5-10ac-4b30-a24f-f27b246a3f31",
                "mode": "lines+markers",
                "y": [],
                "x": [],
                "type": "scatter",
                "name": "Best Score"
              },
              {
                "name": "Iter score",
                "y": [],
                "mode": "markers",
                "marker": {
                  "color": "gray"
                },
                "x": [],
                "type": "scatter",
                "uid": "1e43af97-e807-451d-a0d8-16daeac0f0fd"
              }
            ],
            "_config": {
              "plotlyServerURL": "https://plot.ly"
            },
            "_py2js_restyle": null,
            "_view_module_version": "^4.14.3",
            "_last_layout_edit_id": 37,
            "_js2py_traceDeltas": {}
          }
        },
        "a255cdc08e05466a96155858b90b4bad": {
          "model_module": "plotlywidget",
          "model_name": "FigureModel",
          "state": {
            "_view_name": "FigureView",
            "_py2js_animate": {},
            "_py2js_removeLayoutProps": {},
            "_last_trace_edit_id": 37,
            "_view_module": "plotlywidget",
            "_model_module_version": "^4.14.3",
            "_view_count": 0,
            "_js2py_relayout": {},
            "_py2js_moveTraces": {},
            "_py2js_addTraces": {},
            "_model_module": "plotlywidget",
            "_py2js_relayout": null,
            "_js2py_pointsCallback": {},
            "_js2py_update": {},
            "_js2py_restyle": {},
            "_py2js_removeTraceProps": {},
            "_py2js_deleteTraces": {},
            "_dom_classes": [],
            "_model_name": "FigureModel",
            "_layout": {
              "yaxis": {
                "title": {
                  "text": "Score"
                }
              },
              "xaxis": {
                "title": {
                  "text": "Iteration"
                },
                "rangemode": "tozero"
              },
              "title": {
                "text": "Pipeline Search: Iteration vs. AUC<br><sub>Gray marker indicates the score at current iteration</sub>"
              }
            },
            "_js2py_layoutDelta": {},
            "_py2js_update": null,
            "_data": [
              {
                "uid": "ace6d566-7964-477a-872e-db221bf607a3",
                "mode": "lines+markers",
                "y": [],
                "x": [],
                "type": "scatter",
                "name": "Best Score"
              },
              {
                "name": "Iter score",
                "y": [],
                "mode": "markers",
                "marker": {
                  "color": "gray"
                },
                "x": [],
                "type": "scatter",
                "uid": "da9af208-fb92-4973-b802-fcdde57ad8b8"
              }
            ],
            "_config": {
              "plotlyServerURL": "https://plot.ly"
            },
            "_py2js_restyle": null,
            "_view_module_version": "^4.14.3",
            "_last_layout_edit_id": 37,
            "_js2py_traceDeltas": {}
          }
        }
      }
    }
  },
  "cells": [
    {
      "cell_type": "code",
      "metadata": {
        "id": "4CWPYnEtYCHO",
        "colab": {
          "base_uri": "https://localhost:8080/"
        },
        "outputId": "e6e0ea04-5475-4168-f997-457c424a8659"
      },
      "source": [
        "from google.colab import drive\n",
        "drive.mount('/content/drive')"
      ],
      "execution_count": null,
      "outputs": [
        {
          "output_type": "stream",
          "text": [
            "Drive already mounted at /content/drive; to attempt to forcibly remount, call drive.mount(\"/content/drive\", force_remount=True).\n"
          ],
          "name": "stdout"
        }
      ]
    },
    {
      "cell_type": "code",
      "metadata": {
        "id": "u8ehFzbDYcF_"
      },
      "source": [
        "import pandas as pd\n",
        "import datatable as dt\n",
        "import evalml\n",
        "import seaborn as sns\n",
        "from sklearn import preprocessing\n",
        "from category_encoders import TargetEncoder\n",
        "te = TargetEncoder()"
      ],
      "execution_count": null,
      "outputs": []
    },
    {
      "cell_type": "code",
      "metadata": {
        "id": "t48u6W6-bd0m",
        "colab": {
          "base_uri": "https://localhost:8080/",
          "height": 439
        },
        "outputId": "784bbf7b-a6a8-4574-dafb-ef1f59b74ba1"
      },
      "source": [
        "data=pd.read_csv('/content/drive/MyDrive/Colab data/train_s3TEQDk.csv')\n",
        "data=data.drop(data[data['Credit_Product'].isnull()].index)\n",
        "data['Risk']=data['Vintage']/data['Age']\n",
        "data['Poshness']=te.fit_transform(data['Region_Code'],data['Avg_Account_Balance'])\n",
        "\n",
        "\n",
        "data"
      ],
      "execution_count": null,
      "outputs": [
        {
          "output_type": "execute_result",
          "data": {
            "text/html": [
              "<div>\n",
              "<style scoped>\n",
              "    .dataframe tbody tr th:only-of-type {\n",
              "        vertical-align: middle;\n",
              "    }\n",
              "\n",
              "    .dataframe tbody tr th {\n",
              "        vertical-align: top;\n",
              "    }\n",
              "\n",
              "    .dataframe thead th {\n",
              "        text-align: right;\n",
              "    }\n",
              "</style>\n",
              "<table border=\"1\" class=\"dataframe\">\n",
              "  <thead>\n",
              "    <tr style=\"text-align: right;\">\n",
              "      <th></th>\n",
              "      <th>ID</th>\n",
              "      <th>Gender</th>\n",
              "      <th>Age</th>\n",
              "      <th>Region_Code</th>\n",
              "      <th>Occupation</th>\n",
              "      <th>Channel_Code</th>\n",
              "      <th>Vintage</th>\n",
              "      <th>Credit_Product</th>\n",
              "      <th>Avg_Account_Balance</th>\n",
              "      <th>Is_Active</th>\n",
              "      <th>Is_Lead</th>\n",
              "      <th>Risk</th>\n",
              "      <th>Poshness</th>\n",
              "    </tr>\n",
              "  </thead>\n",
              "  <tbody>\n",
              "    <tr>\n",
              "      <th>0</th>\n",
              "      <td>NNVBBKZB</td>\n",
              "      <td>Female</td>\n",
              "      <td>73</td>\n",
              "      <td>RG268</td>\n",
              "      <td>Other</td>\n",
              "      <td>X3</td>\n",
              "      <td>43</td>\n",
              "      <td>No</td>\n",
              "      <td>1045696</td>\n",
              "      <td>No</td>\n",
              "      <td>0</td>\n",
              "      <td>0.589041</td>\n",
              "      <td>1.460240e+06</td>\n",
              "    </tr>\n",
              "    <tr>\n",
              "      <th>1</th>\n",
              "      <td>IDD62UNG</td>\n",
              "      <td>Female</td>\n",
              "      <td>30</td>\n",
              "      <td>RG277</td>\n",
              "      <td>Salaried</td>\n",
              "      <td>X1</td>\n",
              "      <td>32</td>\n",
              "      <td>No</td>\n",
              "      <td>581988</td>\n",
              "      <td>No</td>\n",
              "      <td>0</td>\n",
              "      <td>1.066667</td>\n",
              "      <td>9.768745e+05</td>\n",
              "    </tr>\n",
              "    <tr>\n",
              "      <th>2</th>\n",
              "      <td>HD3DSEMC</td>\n",
              "      <td>Female</td>\n",
              "      <td>56</td>\n",
              "      <td>RG268</td>\n",
              "      <td>Self_Employed</td>\n",
              "      <td>X3</td>\n",
              "      <td>26</td>\n",
              "      <td>No</td>\n",
              "      <td>1484315</td>\n",
              "      <td>Yes</td>\n",
              "      <td>0</td>\n",
              "      <td>0.464286</td>\n",
              "      <td>1.460240e+06</td>\n",
              "    </tr>\n",
              "    <tr>\n",
              "      <th>3</th>\n",
              "      <td>BF3NC7KV</td>\n",
              "      <td>Male</td>\n",
              "      <td>34</td>\n",
              "      <td>RG270</td>\n",
              "      <td>Salaried</td>\n",
              "      <td>X1</td>\n",
              "      <td>19</td>\n",
              "      <td>No</td>\n",
              "      <td>470454</td>\n",
              "      <td>No</td>\n",
              "      <td>0</td>\n",
              "      <td>0.558824</td>\n",
              "      <td>6.924174e+05</td>\n",
              "    </tr>\n",
              "    <tr>\n",
              "      <th>4</th>\n",
              "      <td>TEASRWXV</td>\n",
              "      <td>Female</td>\n",
              "      <td>30</td>\n",
              "      <td>RG282</td>\n",
              "      <td>Salaried</td>\n",
              "      <td>X1</td>\n",
              "      <td>33</td>\n",
              "      <td>No</td>\n",
              "      <td>886787</td>\n",
              "      <td>No</td>\n",
              "      <td>0</td>\n",
              "      <td>1.100000</td>\n",
              "      <td>9.485571e+05</td>\n",
              "    </tr>\n",
              "    <tr>\n",
              "      <th>...</th>\n",
              "      <td>...</td>\n",
              "      <td>...</td>\n",
              "      <td>...</td>\n",
              "      <td>...</td>\n",
              "      <td>...</td>\n",
              "      <td>...</td>\n",
              "      <td>...</td>\n",
              "      <td>...</td>\n",
              "      <td>...</td>\n",
              "      <td>...</td>\n",
              "      <td>...</td>\n",
              "      <td>...</td>\n",
              "      <td>...</td>\n",
              "    </tr>\n",
              "    <tr>\n",
              "      <th>245719</th>\n",
              "      <td>DQ48DATH</td>\n",
              "      <td>Female</td>\n",
              "      <td>38</td>\n",
              "      <td>RG280</td>\n",
              "      <td>Salaried</td>\n",
              "      <td>X2</td>\n",
              "      <td>13</td>\n",
              "      <td>Yes</td>\n",
              "      <td>354665</td>\n",
              "      <td>No</td>\n",
              "      <td>0</td>\n",
              "      <td>0.342105</td>\n",
              "      <td>7.777738e+05</td>\n",
              "    </tr>\n",
              "    <tr>\n",
              "      <th>245721</th>\n",
              "      <td>HFNB7JY8</td>\n",
              "      <td>Male</td>\n",
              "      <td>27</td>\n",
              "      <td>RG268</td>\n",
              "      <td>Salaried</td>\n",
              "      <td>X1</td>\n",
              "      <td>15</td>\n",
              "      <td>No</td>\n",
              "      <td>862952</td>\n",
              "      <td>Yes</td>\n",
              "      <td>0</td>\n",
              "      <td>0.555556</td>\n",
              "      <td>1.460240e+06</td>\n",
              "    </tr>\n",
              "    <tr>\n",
              "      <th>245722</th>\n",
              "      <td>GEHAUCWT</td>\n",
              "      <td>Female</td>\n",
              "      <td>26</td>\n",
              "      <td>RG281</td>\n",
              "      <td>Salaried</td>\n",
              "      <td>X1</td>\n",
              "      <td>13</td>\n",
              "      <td>No</td>\n",
              "      <td>670659</td>\n",
              "      <td>No</td>\n",
              "      <td>0</td>\n",
              "      <td>0.500000</td>\n",
              "      <td>8.827368e+05</td>\n",
              "    </tr>\n",
              "    <tr>\n",
              "      <th>245723</th>\n",
              "      <td>GE7V8SAH</td>\n",
              "      <td>Female</td>\n",
              "      <td>28</td>\n",
              "      <td>RG273</td>\n",
              "      <td>Salaried</td>\n",
              "      <td>X1</td>\n",
              "      <td>31</td>\n",
              "      <td>No</td>\n",
              "      <td>407504</td>\n",
              "      <td>No</td>\n",
              "      <td>0</td>\n",
              "      <td>1.107143</td>\n",
              "      <td>8.543590e+05</td>\n",
              "    </tr>\n",
              "    <tr>\n",
              "      <th>245724</th>\n",
              "      <td>BOCZSWLJ</td>\n",
              "      <td>Male</td>\n",
              "      <td>29</td>\n",
              "      <td>RG269</td>\n",
              "      <td>Salaried</td>\n",
              "      <td>X1</td>\n",
              "      <td>21</td>\n",
              "      <td>No</td>\n",
              "      <td>1129276</td>\n",
              "      <td>No</td>\n",
              "      <td>0</td>\n",
              "      <td>0.724138</td>\n",
              "      <td>1.022619e+06</td>\n",
              "    </tr>\n",
              "  </tbody>\n",
              "</table>\n",
              "<p>216400 rows × 13 columns</p>\n",
              "</div>"
            ],
            "text/plain": [
              "              ID  Gender  Age  ... Is_Lead      Risk      Poshness\n",
              "0       NNVBBKZB  Female   73  ...       0  0.589041  1.460240e+06\n",
              "1       IDD62UNG  Female   30  ...       0  1.066667  9.768745e+05\n",
              "2       HD3DSEMC  Female   56  ...       0  0.464286  1.460240e+06\n",
              "3       BF3NC7KV    Male   34  ...       0  0.558824  6.924174e+05\n",
              "4       TEASRWXV  Female   30  ...       0  1.100000  9.485571e+05\n",
              "...          ...     ...  ...  ...     ...       ...           ...\n",
              "245719  DQ48DATH  Female   38  ...       0  0.342105  7.777738e+05\n",
              "245721  HFNB7JY8    Male   27  ...       0  0.555556  1.460240e+06\n",
              "245722  GEHAUCWT  Female   26  ...       0  0.500000  8.827368e+05\n",
              "245723  GE7V8SAH  Female   28  ...       0  1.107143  8.543590e+05\n",
              "245724  BOCZSWLJ    Male   29  ...       0  0.724138  1.022619e+06\n",
              "\n",
              "[216400 rows x 13 columns]"
            ]
          },
          "metadata": {
            "tags": []
          },
          "execution_count": 9
        }
      ]
    },
    {
      "cell_type": "code",
      "metadata": {
        "colab": {
          "base_uri": "https://localhost:8080/",
          "height": 385
        },
        "id": "HJ86BtdgjiRJ",
        "outputId": "2e2e2b65-99bc-47c4-c9d9-97e6b8822e1d"
      },
      "source": [
        "data.corr()\n",
        "sns.heatmap(data.corr())"
      ],
      "execution_count": null,
      "outputs": [
        {
          "output_type": "execute_result",
          "data": {
            "text/plain": [
              "<AxesSubplot:>"
            ]
          },
          "metadata": {
            "tags": []
          },
          "execution_count": 12
        },
        {
          "output_type": "display_data",
          "data": {
            "image/png": "[encoded data removed]",
            "text/plain": [
              "<Figure size 432x288 with 2 Axes>"
            ]
          },
          "metadata": {
            "tags": [],
            "needs_background": "light"
          }
        }
      ]
    },
    {
      "cell_type": "code",
      "metadata": {
        "colab": {
          "base_uri": "https://localhost:8080/",
          "height": 224
        },
        "id": "q-1ugAIAYvK0",
        "outputId": "fc9ef5a7-b6a1-4190-b383-65ea11386974"
      },
      "source": [
        "X=data.drop(['Is_Lead','ID'], axis=1)  \n",
        "y=data.Is_Lead\n",
        "X.head()"
      ],
      "execution_count": null,
      "outputs": [
        {
          "output_type": "execute_result",
          "data": {
            "text/html": [
              "<div>\n",
              "<style scoped>\n",
              "    .dataframe tbody tr th:only-of-type {\n",
              "        vertical-align: middle;\n",
              "    }\n",
              "\n",
              "    .dataframe tbody tr th {\n",
              "        vertical-align: top;\n",
              "    }\n",
              "\n",
              "    .dataframe thead th {\n",
              "        text-align: right;\n",
              "    }\n",
              "</style>\n",
              "<table border=\"1\" class=\"dataframe\">\n",
              "  <thead>\n",
              "    <tr style=\"text-align: right;\">\n",
              "      <th></th>\n",
              "      <th>Gender</th>\n",
              "      <th>Age</th>\n",
              "      <th>Region_Code</th>\n",
              "      <th>Occupation</th>\n",
              "      <th>Channel_Code</th>\n",
              "      <th>Vintage</th>\n",
              "      <th>Credit_Product</th>\n",
              "      <th>Avg_Account_Balance</th>\n",
              "      <th>Is_Active</th>\n",
              "      <th>Risk</th>\n",
              "    </tr>\n",
              "  </thead>\n",
              "  <tbody>\n",
              "    <tr>\n",
              "      <th>0</th>\n",
              "      <td>Female</td>\n",
              "      <td>73</td>\n",
              "      <td>RG268</td>\n",
              "      <td>Other</td>\n",
              "      <td>X3</td>\n",
              "      <td>43</td>\n",
              "      <td>No</td>\n",
              "      <td>1045696</td>\n",
              "      <td>No</td>\n",
              "      <td>0.589041</td>\n",
              "    </tr>\n",
              "    <tr>\n",
              "      <th>1</th>\n",
              "      <td>Female</td>\n",
              "      <td>30</td>\n",
              "      <td>RG277</td>\n",
              "      <td>Salaried</td>\n",
              "      <td>X1</td>\n",
              "      <td>32</td>\n",
              "      <td>No</td>\n",
              "      <td>581988</td>\n",
              "      <td>No</td>\n",
              "      <td>1.066667</td>\n",
              "    </tr>\n",
              "    <tr>\n",
              "      <th>2</th>\n",
              "      <td>Female</td>\n",
              "      <td>56</td>\n",
              "      <td>RG268</td>\n",
              "      <td>Self_Employed</td>\n",
              "      <td>X3</td>\n",
              "      <td>26</td>\n",
              "      <td>No</td>\n",
              "      <td>1484315</td>\n",
              "      <td>Yes</td>\n",
              "      <td>0.464286</td>\n",
              "    </tr>\n",
              "    <tr>\n",
              "      <th>3</th>\n",
              "      <td>Male</td>\n",
              "      <td>34</td>\n",
              "      <td>RG270</td>\n",
              "      <td>Salaried</td>\n",
              "      <td>X1</td>\n",
              "      <td>19</td>\n",
              "      <td>No</td>\n",
              "      <td>470454</td>\n",
              "      <td>No</td>\n",
              "      <td>0.558824</td>\n",
              "    </tr>\n",
              "    <tr>\n",
              "      <th>4</th>\n",
              "      <td>Female</td>\n",
              "      <td>30</td>\n",
              "      <td>RG282</td>\n",
              "      <td>Salaried</td>\n",
              "      <td>X1</td>\n",
              "      <td>33</td>\n",
              "      <td>No</td>\n",
              "      <td>886787</td>\n",
              "      <td>No</td>\n",
              "      <td>1.100000</td>\n",
              "    </tr>\n",
              "  </tbody>\n",
              "</table>\n",
              "</div>"
            ],
            "text/plain": [
              "   Gender  Age Region_Code  ... Avg_Account_Balance Is_Active      Risk\n",
              "0  Female   73       RG268  ...             1045696        No  0.589041\n",
              "1  Female   30       RG277  ...              581988        No  1.066667\n",
              "2  Female   56       RG268  ...             1484315       Yes  0.464286\n",
              "3    Male   34       RG270  ...              470454        No  0.558824\n",
              "4  Female   30       RG282  ...              886787        No  1.100000\n",
              "\n",
              "[5 rows x 10 columns]"
            ]
          },
          "metadata": {
            "tags": []
          },
          "execution_count": 138
        }
      ]
    },
    {
      "cell_type": "code",
      "metadata": {
        "id": "agY9XAApZOJr"
      },
      "source": [
        "X_train,X_test,y_train,y_test=evalml.preprocessing.split_data(X,y,problem_type='binary')"
      ],
      "execution_count": null,
      "outputs": []
    },
    {
      "cell_type": "code",
      "metadata": {
        "colab": {
          "base_uri": "https://localhost:8080/",
          "height": 385
        },
        "id": "LZZbQ6oybMYs",
        "outputId": "f722ae15-f12d-4916-98f4-3b2992e1f783"
      },
      "source": [
        "X_train.head()"
      ],
      "execution_count": null,
      "outputs": [
        {
          "output_type": "execute_result",
          "data": {
            "text/html": [
              "<div>\n",
              "<style scoped>\n",
              "    .dataframe tbody tr th:only-of-type {\n",
              "        vertical-align: middle;\n",
              "    }\n",
              "\n",
              "    .dataframe tbody tr th {\n",
              "        vertical-align: top;\n",
              "    }\n",
              "\n",
              "    .dataframe thead tr th {\n",
              "        text-align: left;\n",
              "    }\n",
              "</style>\n",
              "<table border=\"1\" class=\"dataframe\">\n",
              "  <thead>\n",
              "    <tr>\n",
              "      <th>Data Column</th>\n",
              "      <th>Gender</th>\n",
              "      <th>Age</th>\n",
              "      <th>Region_Code</th>\n",
              "      <th>Occupation</th>\n",
              "      <th>Channel_Code</th>\n",
              "      <th>Vintage</th>\n",
              "      <th>Credit_Product</th>\n",
              "      <th>Avg_Account_Balance</th>\n",
              "      <th>Is_Active</th>\n",
              "      <th>Risk</th>\n",
              "      <th>Poshness</th>\n",
              "    </tr>\n",
              "    <tr>\n",
              "      <th>Physical Type</th>\n",
              "      <th>category</th>\n",
              "      <th>Int64</th>\n",
              "      <th>category</th>\n",
              "      <th>category</th>\n",
              "      <th>category</th>\n",
              "      <th>Int64</th>\n",
              "      <th>category</th>\n",
              "      <th>Int64</th>\n",
              "      <th>category</th>\n",
              "      <th>float64</th>\n",
              "      <th>float64</th>\n",
              "    </tr>\n",
              "    <tr>\n",
              "      <th>Logical Type</th>\n",
              "      <th>Categorical</th>\n",
              "      <th>Integer</th>\n",
              "      <th>Categorical</th>\n",
              "      <th>Categorical</th>\n",
              "      <th>Categorical</th>\n",
              "      <th>Integer</th>\n",
              "      <th>Categorical</th>\n",
              "      <th>Integer</th>\n",
              "      <th>Categorical</th>\n",
              "      <th>Double</th>\n",
              "      <th>Double</th>\n",
              "    </tr>\n",
              "    <tr>\n",
              "      <th>Semantic Tag(s)</th>\n",
              "      <th>['category']</th>\n",
              "      <th>['numeric']</th>\n",
              "      <th>['category']</th>\n",
              "      <th>['category']</th>\n",
              "      <th>['category']</th>\n",
              "      <th>['numeric']</th>\n",
              "      <th>['category']</th>\n",
              "      <th>['numeric']</th>\n",
              "      <th>['category']</th>\n",
              "      <th>['numeric']</th>\n",
              "      <th>['numeric']</th>\n",
              "    </tr>\n",
              "  </thead>\n",
              "  <tbody>\n",
              "    <tr>\n",
              "      <th>818</th>\n",
              "      <td>Female</td>\n",
              "      <td>81</td>\n",
              "      <td>RG255</td>\n",
              "      <td>Other</td>\n",
              "      <td>X3</td>\n",
              "      <td>133</td>\n",
              "      <td>No</td>\n",
              "      <td>1621606</td>\n",
              "      <td>Yes</td>\n",
              "      <td>1.641975</td>\n",
              "      <td>8.653570e+05</td>\n",
              "    </tr>\n",
              "    <tr>\n",
              "      <th>31657</th>\n",
              "      <td>Male</td>\n",
              "      <td>29</td>\n",
              "      <td>RG251</td>\n",
              "      <td>Salaried</td>\n",
              "      <td>X1</td>\n",
              "      <td>14</td>\n",
              "      <td>No</td>\n",
              "      <td>516903</td>\n",
              "      <td>No</td>\n",
              "      <td>0.482759</td>\n",
              "      <td>7.328320e+05</td>\n",
              "    </tr>\n",
              "    <tr>\n",
              "      <th>160309</th>\n",
              "      <td>Female</td>\n",
              "      <td>31</td>\n",
              "      <td>RG275</td>\n",
              "      <td>Salaried</td>\n",
              "      <td>X1</td>\n",
              "      <td>25</td>\n",
              "      <td>Yes</td>\n",
              "      <td>2339801</td>\n",
              "      <td>No</td>\n",
              "      <td>0.806452</td>\n",
              "      <td>8.524428e+05</td>\n",
              "    </tr>\n",
              "    <tr>\n",
              "      <th>1133</th>\n",
              "      <td>Female</td>\n",
              "      <td>28</td>\n",
              "      <td>RG275</td>\n",
              "      <td>Salaried</td>\n",
              "      <td>X1</td>\n",
              "      <td>21</td>\n",
              "      <td>No</td>\n",
              "      <td>803411</td>\n",
              "      <td>No</td>\n",
              "      <td>0.750000</td>\n",
              "      <td>8.524428e+05</td>\n",
              "    </tr>\n",
              "    <tr>\n",
              "      <th>27406</th>\n",
              "      <td>Female</td>\n",
              "      <td>52</td>\n",
              "      <td>RG276</td>\n",
              "      <td>Self_Employed</td>\n",
              "      <td>X2</td>\n",
              "      <td>91</td>\n",
              "      <td>No</td>\n",
              "      <td>461776</td>\n",
              "      <td>No</td>\n",
              "      <td>1.750000</td>\n",
              "      <td>1.053188e+06</td>\n",
              "    </tr>\n",
              "  </tbody>\n",
              "</table>\n",
              "</div>"
            ],
            "text/plain": [
              "Data Column           Gender         Age  ...        Risk      Poshness\n",
              "Physical Type       category       Int64  ...     float64       float64\n",
              "Logical Type     Categorical     Integer  ...      Double        Double\n",
              "Semantic Tag(s) ['category'] ['numeric']  ... ['numeric']   ['numeric']\n",
              "818                   Female          81  ...    1.641975  8.653570e+05\n",
              "31657                   Male          29  ...    0.482759  7.328320e+05\n",
              "160309                Female          31  ...    0.806452  8.524428e+05\n",
              "1133                  Female          28  ...    0.750000  8.524428e+05\n",
              "27406                 Female          52  ...    1.750000  1.053188e+06\n",
              "\n",
              "[5 rows x 11 columns]"
            ]
          },
          "metadata": {
            "tags": []
          },
          "execution_count": 118
        }
      ]
    },
    {
      "cell_type": "code",
      "metadata": {
        "id": "Da9zIGV0cjmH"
      },
      "source": [
        "from evalml import AutoMLSearch"
      ],
      "execution_count": null,
      "outputs": []
    },
    {
      "cell_type": "code",
      "metadata": {
        "colab": {
          "base_uri": "https://localhost:8080/"
        },
        "id": "4GYfuXMUcuIu",
        "outputId": "68fd50ab-d57d-4dae-abfc-d995854e1748"
      },
      "source": [
        "\n",
        "automl=AutoMLSearch(X_train=X_train,y_train=y_train,problem_type='binary',max_batches=1,optimize_thresholds=True)"
      ],
      "execution_count": null,
      "outputs": [
        {
          "output_type": "stream",
          "text": [
            "Generating pipelines to search over...\n",
            "8 pipelines ready for search.\n"
          ],
          "name": "stdout"
        }
      ]
    },
    {
      "cell_type": "code",
      "metadata": {
        "colab": {
          "base_uri": "https://localhost:8080/",
          "height": 850,
          "referenced_widgets": [
            "f95985237b904f608c0047c7377854bc"
          ]
        },
        "id": "lmQQ8XGgcvXK",
        "outputId": "f8350da6-565e-4926-8039-8f53f583d9b7"
      },
      "source": [
        "\n",
        "automl.search()"
      ],
      "execution_count": null,
      "outputs": [
        {
          "output_type": "stream",
          "text": [
            "\n",
            "*****************************\n",
            "* Beginning pipeline search *\n",
            "*****************************\n",
            "\n",
            "Optimizing for Log Loss Binary. \n",
            "Lower score is better.\n",
            "\n",
            "Using SequentialEngine to train and score pipelines.\n",
            "Searching up to 1 batches for a total of 9 pipelines. \n",
            "Allowed model families: extra_trees, random_forest, catboost, decision_tree, linear_model, xgboost, lightgbm\n",
            "\n"
          ],
          "name": "stdout"
        },
        {
          "output_type": "display_data",
          "data": {
            "application/vnd.jupyter.widget-view+json": {
              "model_id": "f95985237b904f608c0047c7377854bc",
              "version_minor": 0,
              "version_major": 2
            },
            "text/plain": [
              "FigureWidget({\n",
              "    'data': [{'mode': 'lines+markers',\n",
              "              'name': 'Best Score',\n",
              "              'type'…"
            ]
          },
          "metadata": {
            "tags": []
          }
        },
        {
          "output_type": "stream",
          "text": [
            "Evaluating Baseline Pipeline: Mode Baseline Binary Classification Pipeline\n",
            "Mode Baseline Binary Classification Pipeline:\n",
            "\tStarting cross validation\n",
            "\tFinished cross validation - mean Log Loss Binary: 5.307\n",
            "\n",
            "*****************************\n",
            "* Evaluating Batch Number 1 *\n",
            "*****************************\n",
            "\n",
            "Elastic Net Classifier w/ Imputer + One Hot Encoder + Undersampler + Standard Scaler:\n",
            "\tStarting cross validation\n",
            "\tFinished cross validation - mean Log Loss Binary: 0.365\n",
            "Decision Tree Classifier w/ Imputer + One Hot Encoder + Undersampler:\n",
            "\tStarting cross validation\n",
            "\tFinished cross validation - mean Log Loss Binary: 0.396\n",
            "Random Forest Classifier w/ Imputer + One Hot Encoder + Undersampler:\n",
            "\tStarting cross validation\n",
            "\tFinished cross validation - mean Log Loss Binary: 0.360\n",
            "LightGBM Classifier w/ Imputer + One Hot Encoder + Undersampler:\n",
            "\tStarting cross validation\n",
            "\tFinished cross validation - mean Log Loss Binary: 0.344\n",
            "Logistic Regression Classifier w/ Imputer + One Hot Encoder + Undersampler + Standard Scaler:\n",
            "\tStarting cross validation\n",
            "\tFinished cross validation - mean Log Loss Binary: 0.364\n",
            "XGBoost Classifier w/ Imputer + One Hot Encoder + Undersampler:\n",
            "\tStarting cross validation\n",
            "\tFinished cross validation - mean Log Loss Binary: 0.344\n",
            "Extra Trees Classifier w/ Imputer + One Hot Encoder + Undersampler:\n",
            "\tStarting cross validation\n",
            "\tFinished cross validation - mean Log Loss Binary: 0.366\n",
            "CatBoost Classifier w/ Imputer + Undersampler:\n",
            "\tStarting cross validation\n",
            "\tFinished cross validation - mean Log Loss Binary: 0.570\n",
            "\n",
            "Search finished after 01:30            \n",
            "Best pipeline: LightGBM Classifier w/ Imputer + One Hot Encoder + Undersampler\n",
            "Best pipeline Log Loss Binary: 0.344113\n"
          ],
          "name": "stdout"
        }
      ]
    },
    {
      "cell_type": "code",
      "metadata": {
        "colab": {
          "base_uri": "https://localhost:8080/",
          "height": 634
        },
        "id": "NpOJ5sDScyry",
        "outputId": "6593703b-67e7-4378-8005-7788d02e462e"
      },
      "source": [
        "automl.rankings"
      ],
      "execution_count": null,
      "outputs": [
        {
          "output_type": "execute_result",
          "data": {
            "text/html": [
              "<div>\n",
              "<style scoped>\n",
              "    .dataframe tbody tr th:only-of-type {\n",
              "        vertical-align: middle;\n",
              "    }\n",
              "\n",
              "    .dataframe tbody tr th {\n",
              "        vertical-align: top;\n",
              "    }\n",
              "\n",
              "    .dataframe thead th {\n",
              "        text-align: right;\n",
              "    }\n",
              "</style>\n",
              "<table border=\"1\" class=\"dataframe\">\n",
              "  <thead>\n",
              "    <tr style=\"text-align: right;\">\n",
              "      <th></th>\n",
              "      <th>id</th>\n",
              "      <th>pipeline_name</th>\n",
              "      <th>mean_cv_score</th>\n",
              "      <th>standard_deviation_cv_score</th>\n",
              "      <th>validation_score</th>\n",
              "      <th>percent_better_than_baseline</th>\n",
              "      <th>high_variance_cv</th>\n",
              "      <th>parameters</th>\n",
              "    </tr>\n",
              "  </thead>\n",
              "  <tbody>\n",
              "    <tr>\n",
              "      <th>0</th>\n",
              "      <td>4</td>\n",
              "      <td>LightGBM Classifier w/ Imputer + One Hot Encod...</td>\n",
              "      <td>0.344113</td>\n",
              "      <td>NaN</td>\n",
              "      <td>0.344113</td>\n",
              "      <td>93.516073</td>\n",
              "      <td>False</td>\n",
              "      <td>{'Imputer': {'categorical_impute_strategy': 'm...</td>\n",
              "    </tr>\n",
              "    <tr>\n",
              "      <th>1</th>\n",
              "      <td>6</td>\n",
              "      <td>XGBoost Classifier w/ Imputer + One Hot Encode...</td>\n",
              "      <td>0.344157</td>\n",
              "      <td>NaN</td>\n",
              "      <td>0.344157</td>\n",
              "      <td>93.515243</td>\n",
              "      <td>False</td>\n",
              "      <td>{'Imputer': {'categorical_impute_strategy': 'm...</td>\n",
              "    </tr>\n",
              "    <tr>\n",
              "      <th>2</th>\n",
              "      <td>3</td>\n",
              "      <td>Random Forest Classifier w/ Imputer + One Hot ...</td>\n",
              "      <td>0.359946</td>\n",
              "      <td>NaN</td>\n",
              "      <td>0.359946</td>\n",
              "      <td>93.217739</td>\n",
              "      <td>False</td>\n",
              "      <td>{'Imputer': {'categorical_impute_strategy': 'm...</td>\n",
              "    </tr>\n",
              "    <tr>\n",
              "      <th>3</th>\n",
              "      <td>5</td>\n",
              "      <td>Logistic Regression Classifier w/ Imputer + On...</td>\n",
              "      <td>0.364042</td>\n",
              "      <td>NaN</td>\n",
              "      <td>0.364042</td>\n",
              "      <td>93.140559</td>\n",
              "      <td>False</td>\n",
              "      <td>{'Imputer': {'categorical_impute_strategy': 'm...</td>\n",
              "    </tr>\n",
              "    <tr>\n",
              "      <th>4</th>\n",
              "      <td>1</td>\n",
              "      <td>Elastic Net Classifier w/ Imputer + One Hot En...</td>\n",
              "      <td>0.365408</td>\n",
              "      <td>NaN</td>\n",
              "      <td>0.365408</td>\n",
              "      <td>93.114833</td>\n",
              "      <td>False</td>\n",
              "      <td>{'Imputer': {'categorical_impute_strategy': 'm...</td>\n",
              "    </tr>\n",
              "    <tr>\n",
              "      <th>5</th>\n",
              "      <td>7</td>\n",
              "      <td>Extra Trees Classifier w/ Imputer + One Hot En...</td>\n",
              "      <td>0.366334</td>\n",
              "      <td>NaN</td>\n",
              "      <td>0.366334</td>\n",
              "      <td>93.097383</td>\n",
              "      <td>False</td>\n",
              "      <td>{'Imputer': {'categorical_impute_strategy': 'm...</td>\n",
              "    </tr>\n",
              "    <tr>\n",
              "      <th>6</th>\n",
              "      <td>2</td>\n",
              "      <td>Decision Tree Classifier w/ Imputer + One Hot ...</td>\n",
              "      <td>0.395834</td>\n",
              "      <td>NaN</td>\n",
              "      <td>0.395834</td>\n",
              "      <td>92.541526</td>\n",
              "      <td>False</td>\n",
              "      <td>{'Imputer': {'categorical_impute_strategy': 'm...</td>\n",
              "    </tr>\n",
              "    <tr>\n",
              "      <th>7</th>\n",
              "      <td>8</td>\n",
              "      <td>CatBoost Classifier w/ Imputer + Undersampler</td>\n",
              "      <td>0.570269</td>\n",
              "      <td>NaN</td>\n",
              "      <td>0.570269</td>\n",
              "      <td>89.254751</td>\n",
              "      <td>False</td>\n",
              "      <td>{'Imputer': {'categorical_impute_strategy': 'm...</td>\n",
              "    </tr>\n",
              "    <tr>\n",
              "      <th>8</th>\n",
              "      <td>0</td>\n",
              "      <td>Mode Baseline Binary Classification Pipeline</td>\n",
              "      <td>5.307171</td>\n",
              "      <td>NaN</td>\n",
              "      <td>5.307171</td>\n",
              "      <td>0.000000</td>\n",
              "      <td>False</td>\n",
              "      <td>{'Baseline Classifier': {'strategy': 'mode'}}</td>\n",
              "    </tr>\n",
              "  </tbody>\n",
              "</table>\n",
              "</div>"
            ],
            "text/plain": [
              "   id  ...                                         parameters\n",
              "0   4  ...  {'Imputer': {'categorical_impute_strategy': 'm...\n",
              "1   6  ...  {'Imputer': {'categorical_impute_strategy': 'm...\n",
              "2   3  ...  {'Imputer': {'categorical_impute_strategy': 'm...\n",
              "3   5  ...  {'Imputer': {'categorical_impute_strategy': 'm...\n",
              "4   1  ...  {'Imputer': {'categorical_impute_strategy': 'm...\n",
              "5   7  ...  {'Imputer': {'categorical_impute_strategy': 'm...\n",
              "6   2  ...  {'Imputer': {'categorical_impute_strategy': 'm...\n",
              "7   8  ...  {'Imputer': {'categorical_impute_strategy': 'm...\n",
              "8   0  ...      {'Baseline Classifier': {'strategy': 'mode'}}\n",
              "\n",
              "[9 rows x 8 columns]"
            ]
          },
          "metadata": {
            "tags": []
          },
          "execution_count": 54
        }
      ]
    },
    {
      "cell_type": "code",
      "metadata": {
        "id": "98iqR-PxdV73"
      },
      "source": [
        "best_pipeline = automl.best_pipeline"
      ],
      "execution_count": null,
      "outputs": []
    },
    {
      "cell_type": "code",
      "metadata": {
        "colab": {
          "base_uri": "https://localhost:8080/"
        },
        "id": "EXYzRomedjFL",
        "outputId": "7ebb5f95-30cd-4055-84b8-2971e73e8b5a"
      },
      "source": [
        "automl.describe_pipeline(automl.rankings.iloc[7][\"id\"])"
      ],
      "execution_count": null,
      "outputs": [
        {
          "output_type": "stream",
          "text": [
            "\n",
            "*************************************************\n",
            "* CatBoost Classifier w/ Imputer + Undersampler *\n",
            "*************************************************\n",
            "\n",
            "Problem Type: binary\n",
            "Model Family: CatBoost\n",
            "\n",
            "Pipeline Steps\n",
            "==============\n",
            "1. Imputer\n",
            "\t * categorical_impute_strategy : most_frequent\n",
            "\t * numeric_impute_strategy : mean\n",
            "\t * categorical_fill_value : None\n",
            "\t * numeric_fill_value : None\n",
            "2. Undersampler\n",
            "\t * sampling_ratio : 0.25\n",
            "\t * min_samples : 100\n",
            "\t * min_percentage : 0.1\n",
            "\t * sampling_ratio_dict : None\n",
            "3. CatBoost Classifier\n",
            "\t * n_estimators : 10\n",
            "\t * eta : 0.03\n",
            "\t * max_depth : 6\n",
            "\t * bootstrap_type : None\n",
            "\t * silent : True\n",
            "\t * allow_writing_files : False\n",
            "\n",
            "Training\n",
            "========\n",
            "Training for binary problems.\n",
            "Total training time (including CV): 6.1 seconds\n",
            "\n",
            "Cross Validation\n",
            "----------------\n",
            "            Log Loss Binary MCC Binary   AUC Precision    F1 Balanced Accuracy Binary Accuracy Binary Sensitivity at Low Alert Rates # Training # Validation\n",
            "0                     0.570      0.318 0.788     0.502 0.390                    0.631           0.847                          0.099     43,280      129,840\n",
            "mean                  0.570      0.318 0.788     0.502 0.390                    0.631           0.847                          0.099          -            -\n",
            "std                       -          -     -         -     -                        -               -                              -          -            -\n",
            "coef of var               -          -     -         -     -                        -               -                              -          -            -\n"
          ],
          "name": "stdout"
        }
      ]
    },
    {
      "cell_type": "code",
      "metadata": {
        "colab": {
          "base_uri": "https://localhost:8080/"
        },
        "id": "pyfq5mzPdlXw",
        "outputId": "877247a4-805d-4565-9d8c-614ca358df15"
      },
      "source": [
        "scores = best_pipeline.score(X_test, y_test,  objectives=evalml.objectives.get_core_objectives('binary'))\n",
        "print(scores['AUC'])"
      ],
      "execution_count": null,
      "outputs": [
        {
          "output_type": "stream",
          "text": [
            "0.8047318103772925\n"
          ],
          "name": "stdout"
        }
      ]
    },
    {
      "cell_type": "code",
      "metadata": {
        "colab": {
          "base_uri": "https://localhost:8080/",
          "height": 918,
          "referenced_widgets": [
            "a255cdc08e05466a96155858b90b4bad"
          ]
        },
        "id": "SmItkfeejbgN",
        "outputId": "ac96908d-dfb0-44d5-8ac0-4d205b88ef7e"
      },
      "source": [
        "automl_auc = AutoMLSearch(X_train=X_train, y_train=y_train,\n",
        "                           problem_type='binary',\n",
        "                           objective='auc',\n",
        "                           additional_objectives=['precision'],                    \n",
        "                           optimize_thresholds=True)\n",
        "automl_auc.search() "
      ],
      "execution_count": null,
      "outputs": [
        {
          "output_type": "stream",
          "text": [
            "Using default limit of max_batches=1.\n",
            "\n",
            "Generating pipelines to search over...\n",
            "8 pipelines ready for search.\n",
            "\n",
            "*****************************\n",
            "* Beginning pipeline search *\n",
            "*****************************\n",
            "\n",
            "Optimizing for AUC. \n",
            "Greater score is better.\n",
            "\n",
            "Using SequentialEngine to train and score pipelines.\n",
            "Searching up to 1 batches for a total of 9 pipelines. \n",
            "Allowed model families: extra_trees, random_forest, catboost, decision_tree, linear_model, xgboost, lightgbm\n",
            "\n"
          ],
          "name": "stdout"
        },
        {
          "output_type": "display_data",
          "data": {
            "application/vnd.jupyter.widget-view+json": {
              "model_id": "a255cdc08e05466a96155858b90b4bad",
              "version_minor": 0,
              "version_major": 2
            },
            "text/plain": [
              "FigureWidget({\n",
              "    'data': [{'mode': 'lines+markers',\n",
              "              'name': 'Best Score',\n",
              "              'type'…"
            ]
          },
          "metadata": {
            "tags": []
          }
        },
        {
          "output_type": "stream",
          "text": [
            "Evaluating Baseline Pipeline: Mode Baseline Binary Classification Pipeline\n",
            "Mode Baseline Binary Classification Pipeline:\n",
            "\tStarting cross validation\n",
            "\tFinished cross validation - mean AUC: 0.500\n",
            "\n",
            "*****************************\n",
            "* Evaluating Batch Number 1 *\n",
            "*****************************\n",
            "\n",
            "Elastic Net Classifier w/ Imputer + One Hot Encoder + Standard Scaler:\n",
            "\tStarting cross validation\n",
            "\tFinished cross validation - mean AUC: 0.722\n",
            "Decision Tree Classifier w/ Imputer + One Hot Encoder:\n",
            "\tStarting cross validation\n",
            "\tFinished cross validation - mean AUC: 0.748\n",
            "Random Forest Classifier w/ Imputer + One Hot Encoder:\n",
            "\tStarting cross validation\n",
            "\tFinished cross validation - mean AUC: 0.773\n",
            "LightGBM Classifier w/ Imputer + One Hot Encoder:\n",
            "\tStarting cross validation\n",
            "\tFinished cross validation - mean AUC: 0.785\n",
            "Logistic Regression Classifier w/ Imputer + One Hot Encoder + Standard Scaler:\n",
            "\tStarting cross validation\n",
            "\tFinished cross validation - mean AUC: 0.731\n",
            "XGBoost Classifier w/ Imputer + One Hot Encoder:\n",
            "\tStarting cross validation\n",
            "\tFinished cross validation - mean AUC: 0.784\n",
            "Extra Trees Classifier w/ Imputer + One Hot Encoder:\n",
            "\tStarting cross validation\n",
            "\tFinished cross validation - mean AUC: 0.762\n",
            "CatBoost Classifier w/ Imputer:\n",
            "\tStarting cross validation\n",
            "\tFinished cross validation - mean AUC: 0.755\n",
            "\n",
            "Search finished after 00:52            \n",
            "Best pipeline: LightGBM Classifier w/ Imputer + One Hot Encoder\n",
            "Best pipeline AUC: 0.784522\n"
          ],
          "name": "stdout"
        }
      ]
    },
    {
      "cell_type": "code",
      "metadata": {
        "colab": {
          "base_uri": "https://localhost:8080/",
          "height": 824
        },
        "id": "VFn-PjYI3Xia",
        "outputId": "36b204bc-7292-4f14-e5b0-820ab8f476cb"
      },
      "source": [
        "best_pipeline.feature_importance"
      ],
      "execution_count": null,
      "outputs": [
        {
          "output_type": "execute_result",
          "data": {
            "text/html": [
              "<div>\n",
              "<style scoped>\n",
              "    .dataframe tbody tr th:only-of-type {\n",
              "        vertical-align: middle;\n",
              "    }\n",
              "\n",
              "    .dataframe tbody tr th {\n",
              "        vertical-align: top;\n",
              "    }\n",
              "\n",
              "    .dataframe thead th {\n",
              "        text-align: right;\n",
              "    }\n",
              "</style>\n",
              "<table border=\"1\" class=\"dataframe\">\n",
              "  <thead>\n",
              "    <tr style=\"text-align: right;\">\n",
              "      <th></th>\n",
              "      <th>feature</th>\n",
              "      <th>importance</th>\n",
              "    </tr>\n",
              "  </thead>\n",
              "  <tbody>\n",
              "    <tr>\n",
              "      <th>0</th>\n",
              "      <td>Avg_Account_Balance</td>\n",
              "      <td>617</td>\n",
              "    </tr>\n",
              "    <tr>\n",
              "      <th>1</th>\n",
              "      <td>Age</td>\n",
              "      <td>519</td>\n",
              "    </tr>\n",
              "    <tr>\n",
              "      <th>2</th>\n",
              "      <td>Risk</td>\n",
              "      <td>482</td>\n",
              "    </tr>\n",
              "    <tr>\n",
              "      <th>3</th>\n",
              "      <td>Vintage</td>\n",
              "      <td>436</td>\n",
              "    </tr>\n",
              "    <tr>\n",
              "      <th>4</th>\n",
              "      <td>Occupation_Salaried</td>\n",
              "      <td>165</td>\n",
              "    </tr>\n",
              "    <tr>\n",
              "      <th>5</th>\n",
              "      <td>Is_Active_Yes</td>\n",
              "      <td>111</td>\n",
              "    </tr>\n",
              "    <tr>\n",
              "      <th>6</th>\n",
              "      <td>Channel_Code_X1</td>\n",
              "      <td>78</td>\n",
              "    </tr>\n",
              "    <tr>\n",
              "      <th>7</th>\n",
              "      <td>Occupation_Other</td>\n",
              "      <td>77</td>\n",
              "    </tr>\n",
              "    <tr>\n",
              "      <th>8</th>\n",
              "      <td>Credit_Product_Yes</td>\n",
              "      <td>70</td>\n",
              "    </tr>\n",
              "    <tr>\n",
              "      <th>9</th>\n",
              "      <td>Gender_Female</td>\n",
              "      <td>56</td>\n",
              "    </tr>\n",
              "    <tr>\n",
              "      <th>10</th>\n",
              "      <td>Channel_Code_X2</td>\n",
              "      <td>53</td>\n",
              "    </tr>\n",
              "    <tr>\n",
              "      <th>11</th>\n",
              "      <td>Occupation_Self_Employed</td>\n",
              "      <td>44</td>\n",
              "    </tr>\n",
              "    <tr>\n",
              "      <th>12</th>\n",
              "      <td>Region_Code_RG268</td>\n",
              "      <td>40</td>\n",
              "    </tr>\n",
              "    <tr>\n",
              "      <th>13</th>\n",
              "      <td>Region_Code_RG254</td>\n",
              "      <td>36</td>\n",
              "    </tr>\n",
              "    <tr>\n",
              "      <th>14</th>\n",
              "      <td>Region_Code_RG277</td>\n",
              "      <td>35</td>\n",
              "    </tr>\n",
              "    <tr>\n",
              "      <th>15</th>\n",
              "      <td>Channel_Code_X3</td>\n",
              "      <td>29</td>\n",
              "    </tr>\n",
              "    <tr>\n",
              "      <th>16</th>\n",
              "      <td>Region_Code_RG283</td>\n",
              "      <td>26</td>\n",
              "    </tr>\n",
              "    <tr>\n",
              "      <th>17</th>\n",
              "      <td>Occupation_Entrepreneur</td>\n",
              "      <td>21</td>\n",
              "    </tr>\n",
              "    <tr>\n",
              "      <th>18</th>\n",
              "      <td>Region_Code_RG269</td>\n",
              "      <td>19</td>\n",
              "    </tr>\n",
              "    <tr>\n",
              "      <th>19</th>\n",
              "      <td>Region_Code_RG284</td>\n",
              "      <td>19</td>\n",
              "    </tr>\n",
              "    <tr>\n",
              "      <th>20</th>\n",
              "      <td>Channel_Code_X4</td>\n",
              "      <td>19</td>\n",
              "    </tr>\n",
              "    <tr>\n",
              "      <th>21</th>\n",
              "      <td>Region_Code_RG280</td>\n",
              "      <td>17</td>\n",
              "    </tr>\n",
              "    <tr>\n",
              "      <th>22</th>\n",
              "      <td>Region_Code_RG261</td>\n",
              "      <td>15</td>\n",
              "    </tr>\n",
              "    <tr>\n",
              "      <th>23</th>\n",
              "      <td>Region_Code_RG257</td>\n",
              "      <td>8</td>\n",
              "    </tr>\n",
              "    <tr>\n",
              "      <th>24</th>\n",
              "      <td>Region_Code_RG270</td>\n",
              "      <td>8</td>\n",
              "    </tr>\n",
              "  </tbody>\n",
              "</table>\n",
              "</div>"
            ],
            "text/plain": [
              "                     feature  importance\n",
              "0        Avg_Account_Balance         617\n",
              "1                        Age         519\n",
              "2                       Risk         482\n",
              "3                    Vintage         436\n",
              "4        Occupation_Salaried         165\n",
              "5              Is_Active_Yes         111\n",
              "6            Channel_Code_X1          78\n",
              "7           Occupation_Other          77\n",
              "8         Credit_Product_Yes          70\n",
              "9              Gender_Female          56\n",
              "10           Channel_Code_X2          53\n",
              "11  Occupation_Self_Employed          44\n",
              "12         Region_Code_RG268          40\n",
              "13         Region_Code_RG254          36\n",
              "14         Region_Code_RG277          35\n",
              "15           Channel_Code_X3          29\n",
              "16         Region_Code_RG283          26\n",
              "17   Occupation_Entrepreneur          21\n",
              "18         Region_Code_RG269          19\n",
              "19         Region_Code_RG284          19\n",
              "20           Channel_Code_X4          19\n",
              "21         Region_Code_RG280          17\n",
              "22         Region_Code_RG261          15\n",
              "23         Region_Code_RG257           8\n",
              "24         Region_Code_RG270           8"
            ]
          },
          "metadata": {
            "tags": []
          },
          "execution_count": 141
        }
      ]
    }
  ]
}